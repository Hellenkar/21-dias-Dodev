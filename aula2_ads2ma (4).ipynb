{
  "nbformat": 4,
  "nbformat_minor": 0,
  "metadata": {
    "colab": {
      "provenance": []
    },
    "kernelspec": {
      "name": "python3",
      "display_name": "Python 3"
    },
    "language_info": {
      "name": "python"
    }
  },
  "cells": [
    {
      "cell_type": "code",
      "execution_count": 17,
      "metadata": {
        "colab": {
          "base_uri": "https://localhost:8080/"
        },
        "id": "p_jp66dYc8zv",
        "outputId": "2df0b884-6f1a-44f7-cb15-9e54c50a1224"
      },
      "outputs": [
        {
          "output_type": "stream",
          "name": "stdout",
          "text": [
            "<class 'bool'>\n"
          ]
        }
      ],
      "source": [
        "# print ('Olá humanos!')\n",
        "\n",
        "# UNINASSAU\n",
        "# DOCENTE: CLOVES ROCHA\n",
        "# ESTUDANTE: Hellen\n",
        "#TIPOS PRIMITIVOS DE DADOS\n",
        "\n",
        "# str = caractere\n",
        "# float = real\n",
        "# int = inteiro\n",
        "# true e False = bool\n",
        "\n",
        "\n",
        "\n",
        "\n",
        "c = False\n",
        "print (type (c))\n",
        "\n",
        "\n",
        "\n"
      ]
    },
    {
      "cell_type": "code",
      "source": [],
      "metadata": {
        "id": "VSt-fD8okcG-"
      },
      "execution_count": null,
      "outputs": []
    }
  ]
}