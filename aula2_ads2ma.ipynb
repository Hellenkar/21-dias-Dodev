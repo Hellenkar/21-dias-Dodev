{
  "nbformat": 4,
  "nbformat_minor": 0,
  "metadata": {
    "colab": {
      "provenance": [],
      "authorship_tag": "ABX9TyPuPYT6BqExxZrzDoWDsuvZ",
      "include_colab_link": true
    },
    "kernelspec": {
      "name": "python3",
      "display_name": "Python 3"
    },
    "language_info": {
      "name": "python"
    }
  },
  "cells": [
    {
      "cell_type": "markdown",
      "metadata": {
        "id": "view-in-github",
        "colab_type": "text"
      },
      "source": [
        "<a href=\"https://colab.research.google.com/github/Hellenkar/21-dias-Dodev/blob/master/aula2_ads2ma.ipynb\" target=\"_parent\"><img src=\"https://colab.research.google.com/assets/colab-badge.svg\" alt=\"Open In Colab\"/></a>"
      ]
    },
    {
      "cell_type": "code",
      "execution_count": 18,
      "metadata": {
        "colab": {
          "base_uri": "https://localhost:8080/"
        },
        "id": "p_jp66dYc8zv",
        "outputId": "6b8dbfd1-08aa-495b-a8f5-e6d0e7b0d894"
      },
      "outputs": [
        {
          "output_type": "stream",
          "name": "stdout",
          "text": [
            "<class 'str'>\n"
          ]
        }
      ],
      "source": [
        "# print ('Olá humanos!')\n",
        "\n",
        "# UNINASSAU\n",
        "# DOCENTE: CLOVES ROCHA\n",
        "# ESTUDANTE: Hellen\n",
        "#TIPOS PRIMITIVOS DE DADOS\n",
        "\n",
        "# str = caractere\n",
        "# float = real\n",
        "# int = inteiro\n",
        "# true e False = bool\n",
        "\n",
        "\n",
        "\n",
        "\n",
        "d = 'dado'\n",
        "print (type (d))\n",
        "\n",
        "\n",
        "\n"
      ]
    },
    {
      "cell_type": "code",
      "source": [],
      "metadata": {
        "id": "vU4B2ecZnvFI"
      },
      "execution_count": null,
      "outputs": []
    },
    {
      "cell_type": "code",
      "source": [],
      "metadata": {
        "id": "VSt-fD8okcG-"
      },
      "execution_count": null,
      "outputs": []
    }
  ]
}